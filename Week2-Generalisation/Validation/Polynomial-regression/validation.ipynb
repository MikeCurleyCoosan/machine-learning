{
 "cells": [
  {
   "cell_type": "code",
   "execution_count": 8,
   "id": "7ec2a361",
   "metadata": {},
   "outputs": [],
   "source": [
    "#Required libraries\n",
    "\n",
    "import numpy as np\n",
    "import pandas as pd\n",
    "import matplotlib.pyplot as plt\n",
    "from sklearn.model_selection import train_test_split\n",
    "from sklearn.linear_model import LinearRegression\n",
    "from sklearn.metrics import mean_squared_error, r2_score\n",
    "\n"
   ]
  },
  {
   "cell_type": "code",
   "execution_count": 9,
   "id": "a66449fa",
   "metadata": {},
   "outputs": [
    {
     "data": {
      "text/html": [
       "<div>\n",
       "<style scoped>\n",
       "    .dataframe tbody tr th:only-of-type {\n",
       "        vertical-align: middle;\n",
       "    }\n",
       "\n",
       "    .dataframe tbody tr th {\n",
       "        vertical-align: top;\n",
       "    }\n",
       "\n",
       "    .dataframe thead th {\n",
       "        text-align: right;\n",
       "    }\n",
       "</style>\n",
       "<table border=\"1\" class=\"dataframe\">\n",
       "  <thead>\n",
       "    <tr style=\"text-align: right;\">\n",
       "      <th></th>\n",
       "      <th>model</th>\n",
       "      <th>mpg</th>\n",
       "      <th>cyl</th>\n",
       "      <th>disp</th>\n",
       "      <th>hp</th>\n",
       "      <th>drat</th>\n",
       "      <th>wt</th>\n",
       "      <th>qsec</th>\n",
       "      <th>vs</th>\n",
       "      <th>am</th>\n",
       "      <th>gear</th>\n",
       "      <th>carb</th>\n",
       "    </tr>\n",
       "  </thead>\n",
       "  <tbody>\n",
       "    <tr>\n",
       "      <th>0</th>\n",
       "      <td>Mazda RX4</td>\n",
       "      <td>21.0</td>\n",
       "      <td>6</td>\n",
       "      <td>160.0</td>\n",
       "      <td>110</td>\n",
       "      <td>3.90</td>\n",
       "      <td>2.620</td>\n",
       "      <td>16.46</td>\n",
       "      <td>0</td>\n",
       "      <td>1</td>\n",
       "      <td>4</td>\n",
       "      <td>4</td>\n",
       "    </tr>\n",
       "    <tr>\n",
       "      <th>1</th>\n",
       "      <td>Mazda RX4 Wag</td>\n",
       "      <td>21.0</td>\n",
       "      <td>6</td>\n",
       "      <td>160.0</td>\n",
       "      <td>110</td>\n",
       "      <td>3.90</td>\n",
       "      <td>2.875</td>\n",
       "      <td>17.02</td>\n",
       "      <td>0</td>\n",
       "      <td>1</td>\n",
       "      <td>4</td>\n",
       "      <td>4</td>\n",
       "    </tr>\n",
       "    <tr>\n",
       "      <th>2</th>\n",
       "      <td>Datsun 710</td>\n",
       "      <td>22.8</td>\n",
       "      <td>4</td>\n",
       "      <td>108.0</td>\n",
       "      <td>93</td>\n",
       "      <td>3.85</td>\n",
       "      <td>2.320</td>\n",
       "      <td>18.61</td>\n",
       "      <td>1</td>\n",
       "      <td>1</td>\n",
       "      <td>4</td>\n",
       "      <td>1</td>\n",
       "    </tr>\n",
       "    <tr>\n",
       "      <th>3</th>\n",
       "      <td>Hornet 4 Drive</td>\n",
       "      <td>21.4</td>\n",
       "      <td>6</td>\n",
       "      <td>258.0</td>\n",
       "      <td>110</td>\n",
       "      <td>3.08</td>\n",
       "      <td>3.215</td>\n",
       "      <td>19.44</td>\n",
       "      <td>1</td>\n",
       "      <td>0</td>\n",
       "      <td>3</td>\n",
       "      <td>1</td>\n",
       "    </tr>\n",
       "    <tr>\n",
       "      <th>4</th>\n",
       "      <td>Hornet Sportabout</td>\n",
       "      <td>18.7</td>\n",
       "      <td>8</td>\n",
       "      <td>360.0</td>\n",
       "      <td>175</td>\n",
       "      <td>3.15</td>\n",
       "      <td>3.440</td>\n",
       "      <td>17.02</td>\n",
       "      <td>0</td>\n",
       "      <td>0</td>\n",
       "      <td>3</td>\n",
       "      <td>2</td>\n",
       "    </tr>\n",
       "  </tbody>\n",
       "</table>\n",
       "</div>"
      ],
      "text/plain": [
       "               model   mpg  cyl   disp   hp  drat     wt   qsec  vs  am  gear  \\\n",
       "0          Mazda RX4  21.0    6  160.0  110  3.90  2.620  16.46   0   1     4   \n",
       "1      Mazda RX4 Wag  21.0    6  160.0  110  3.90  2.875  17.02   0   1     4   \n",
       "2         Datsun 710  22.8    4  108.0   93  3.85  2.320  18.61   1   1     4   \n",
       "3     Hornet 4 Drive  21.4    6  258.0  110  3.08  3.215  19.44   1   0     3   \n",
       "4  Hornet Sportabout  18.7    8  360.0  175  3.15  3.440  17.02   0   0     3   \n",
       "\n",
       "   carb  \n",
       "0     4  \n",
       "1     4  \n",
       "2     1  \n",
       "3     1  \n",
       "4     2  "
      ]
     },
     "execution_count": 9,
     "metadata": {},
     "output_type": "execute_result"
    }
   ],
   "source": [
    "#Procedure \n",
    "#Step 1: import required libraries\n",
    "#Step 2: Load dataset\n",
    "#Step 3: Rename the blank column to 'model'\n",
    "#Step 4: Display first few rows of the dataframe\n",
    "#Step 5: Define target variable and features\n",
    "#Step 6: Split dataset into training and testing sets\n",
    "#Step 7: Evaluate model using cross-validation\n",
    "#Step 8: Calculate and display the mean cross-validation score by evaluating different feature combinations\n",
    "#Step 9: Build final model using the best feature combination identified through cross-validation\n",
    "#Step 10: Use Polynomial regression to capture non-linear relationships(just do this for one feature combination as an example)\n",
    "\n",
    "#This procedure can be used to validate different datasets and models by following the same steps.\n",
    "\n",
    "#Step 2:\n",
    "# Load dataset\n",
    "dfcars = pd.read_csv('mtcars.csv')\n",
    "\n",
    "#Step 3:\n",
    "#Rename the blank column to 'model'\n",
    "dfcars = dfcars.rename(columns={'Unnamed: 0': 'model'})\n",
    "\n",
    "#Step 4:\n",
    "# Display first few rows of the dataframe\n",
    "dfcars.head()\n"
   ]
  },
  {
   "cell_type": "code",
   "execution_count": 10,
   "id": "661ebc54",
   "metadata": {},
   "outputs": [
    {
     "data": {
      "text/html": [
       "<div>\n",
       "<style scoped>\n",
       "    .dataframe tbody tr th:only-of-type {\n",
       "        vertical-align: middle;\n",
       "    }\n",
       "\n",
       "    .dataframe tbody tr th {\n",
       "        vertical-align: top;\n",
       "    }\n",
       "\n",
       "    .dataframe thead th {\n",
       "        text-align: right;\n",
       "    }\n",
       "</style>\n",
       "<table border=\"1\" class=\"dataframe\">\n",
       "  <thead>\n",
       "    <tr style=\"text-align: right;\">\n",
       "      <th></th>\n",
       "      <th>cyl</th>\n",
       "      <th>disp</th>\n",
       "      <th>hp</th>\n",
       "      <th>drat</th>\n",
       "      <th>wt</th>\n",
       "      <th>qsec</th>\n",
       "      <th>vs</th>\n",
       "      <th>am</th>\n",
       "      <th>gear</th>\n",
       "      <th>carb</th>\n",
       "    </tr>\n",
       "  </thead>\n",
       "  <tbody>\n",
       "    <tr>\n",
       "      <th>0</th>\n",
       "      <td>6</td>\n",
       "      <td>160.0</td>\n",
       "      <td>110</td>\n",
       "      <td>3.90</td>\n",
       "      <td>2.620</td>\n",
       "      <td>16.46</td>\n",
       "      <td>0</td>\n",
       "      <td>1</td>\n",
       "      <td>4</td>\n",
       "      <td>4</td>\n",
       "    </tr>\n",
       "    <tr>\n",
       "      <th>1</th>\n",
       "      <td>6</td>\n",
       "      <td>160.0</td>\n",
       "      <td>110</td>\n",
       "      <td>3.90</td>\n",
       "      <td>2.875</td>\n",
       "      <td>17.02</td>\n",
       "      <td>0</td>\n",
       "      <td>1</td>\n",
       "      <td>4</td>\n",
       "      <td>4</td>\n",
       "    </tr>\n",
       "    <tr>\n",
       "      <th>2</th>\n",
       "      <td>4</td>\n",
       "      <td>108.0</td>\n",
       "      <td>93</td>\n",
       "      <td>3.85</td>\n",
       "      <td>2.320</td>\n",
       "      <td>18.61</td>\n",
       "      <td>1</td>\n",
       "      <td>1</td>\n",
       "      <td>4</td>\n",
       "      <td>1</td>\n",
       "    </tr>\n",
       "    <tr>\n",
       "      <th>3</th>\n",
       "      <td>6</td>\n",
       "      <td>258.0</td>\n",
       "      <td>110</td>\n",
       "      <td>3.08</td>\n",
       "      <td>3.215</td>\n",
       "      <td>19.44</td>\n",
       "      <td>1</td>\n",
       "      <td>0</td>\n",
       "      <td>3</td>\n",
       "      <td>1</td>\n",
       "    </tr>\n",
       "    <tr>\n",
       "      <th>4</th>\n",
       "      <td>8</td>\n",
       "      <td>360.0</td>\n",
       "      <td>175</td>\n",
       "      <td>3.15</td>\n",
       "      <td>3.440</td>\n",
       "      <td>17.02</td>\n",
       "      <td>0</td>\n",
       "      <td>0</td>\n",
       "      <td>3</td>\n",
       "      <td>2</td>\n",
       "    </tr>\n",
       "  </tbody>\n",
       "</table>\n",
       "</div>"
      ],
      "text/plain": [
       "   cyl   disp   hp  drat     wt   qsec  vs  am  gear  carb\n",
       "0    6  160.0  110  3.90  2.620  16.46   0   1     4     4\n",
       "1    6  160.0  110  3.90  2.875  17.02   0   1     4     4\n",
       "2    4  108.0   93  3.85  2.320  18.61   1   1     4     1\n",
       "3    6  258.0  110  3.08  3.215  19.44   1   0     3     1\n",
       "4    8  360.0  175  3.15  3.440  17.02   0   0     3     2"
      ]
     },
     "execution_count": 10,
     "metadata": {},
     "output_type": "execute_result"
    }
   ],
   "source": [
    "#Step 5:\n",
    "#Define target variable and features\n",
    "\n",
    "# Now, we know that 'mpg' is the target variable we want to predict based on other features.\n",
    "y = dfcars['mpg']\n",
    "\n",
    "# We want to explore the relationship between 'mpg' and the other features in the dataset.\n",
    "# Lets start by dropping the first two columns to give our features a cleaner look\n",
    "allX = dfcars.drop(columns=['model', 'mpg'])\n",
    "allX.head()\n"
   ]
  },
  {
   "cell_type": "code",
   "execution_count": 11,
   "id": "fb72eb3d",
   "metadata": {},
   "outputs": [],
   "source": [
    "#Step 6:\n",
    "#Lets split our dataset into a training and a testing set\n",
    "#We will use 80% of the data for training and 20% for testing\n",
    "#We have set a random state for reproducibility\n",
    "\n",
    "allX_train, allX_test, y_train, y_test = train_test_split(allX, y, test_size=0.2, random_state=42)"
   ]
  },
  {
   "cell_type": "markdown",
   "id": "ef289946",
   "metadata": {},
   "source": [
    "## Validation.\n",
    "\n",
    "Okay, so below we will look at using validation."
   ]
  },
  {
   "cell_type": "code",
   "execution_count": 12,
   "id": "2f437aac",
   "metadata": {},
   "outputs": [
    {
     "data": {
      "text/plain": [
       "array([0.10736385, 0.49488149, 0.86879651, 0.65179584, 0.73272638])"
      ]
     },
     "execution_count": 12,
     "metadata": {},
     "output_type": "execute_result"
    }
   ],
   "source": [
    "#Step 7:\n",
    "#Evaluate model using cross-validation\n",
    "# Now, we will evaluate our linear regression model using cross-validation.\n",
    "#Sklearn cross_val_score function uses K-fold cross validation by default.\n",
    "\n",
    "# In particular, we will look at using cross-validation to evaluate our model's performance more robustly.\n",
    "# We will use 5-fold cross-validation for this purpose.\n",
    "from sklearn.model_selection import cross_val_score\n",
    "\n",
    "#Firstly lets use the 'wt' feature to predict 'mpg'\n",
    "\n",
    "X_train = allX_train[['wt']]\n",
    "X_test = allX_test[['wt']]\n",
    "\n",
    "# Create a linear regression model\n",
    "model = LinearRegression()\n",
    "scores = cross_val_score(model, X_train, y_train)\n",
    "scores\n"
   ]
  },
  {
   "cell_type": "code",
   "execution_count": 13,
   "id": "a4c9e836",
   "metadata": {},
   "outputs": [
    {
     "data": {
      "text/plain": [
       "np.float64(0.5711128154689776)"
      ]
     },
     "execution_count": 13,
     "metadata": {},
     "output_type": "execute_result"
    }
   ],
   "source": [
    "# Calculate and display the mean cross-validation score\n",
    "scores.mean()"
   ]
  },
  {
   "cell_type": "code",
   "execution_count": 14,
   "id": "2420632d",
   "metadata": {},
   "outputs": [
    {
     "data": {
      "text/plain": [
       "array([0.1262545 , 0.6744817 , 0.76712479, 0.76448681, 0.83404541])"
      ]
     },
     "execution_count": 14,
     "metadata": {},
     "output_type": "execute_result"
    }
   ],
   "source": [
    "# Now lets try a couple of features to predict 'mpg'\n",
    "X_train = allX_train[['wt', 'hp']]\n",
    "X_test = allX_test[['wt', 'hp']]\n",
    "\n",
    "# Create a linear regression model\n",
    "model2 = LinearRegression()\n",
    "scores = cross_val_score(model2, X_train, y_train)\n",
    "scores\n"
   ]
  },
  {
   "cell_type": "code",
   "execution_count": 15,
   "id": "da451d33",
   "metadata": {},
   "outputs": [
    {
     "data": {
      "text/plain": [
       "np.float64(0.6332786406507414)"
      ]
     },
     "execution_count": 15,
     "metadata": {},
     "output_type": "execute_result"
    }
   ],
   "source": [
    "scores.mean()"
   ]
  },
  {
   "cell_type": "code",
   "execution_count": 16,
   "id": "778ccaee",
   "metadata": {},
   "outputs": [
    {
     "data": {
      "text/plain": [
       "array([0.07601333, 0.67448205, 0.74864389, 0.70817736, 0.81098304])"
      ]
     },
     "execution_count": 16,
     "metadata": {},
     "output_type": "execute_result"
    }
   ],
   "source": [
    "# How about using three features: 'wt', 'hp', and 'carb' to predict 'mpg'?\n",
    "X_train = allX_train[['wt', 'hp', 'carb']]\n",
    "X_test = allX_test[['wt', 'hp', 'carb']]\n",
    "\n",
    "# Create a linear regression model\n",
    "model3 = LinearRegression()\n",
    "scores = cross_val_score(model3, X_train, y_train)\n",
    "scores"
   ]
  },
  {
   "cell_type": "code",
   "execution_count": 17,
   "id": "c6f5539d",
   "metadata": {},
   "outputs": [
    {
     "data": {
      "text/plain": [
       "np.float64(0.6036599344425266)"
      ]
     },
     "execution_count": 17,
     "metadata": {},
     "output_type": "execute_result"
    }
   ],
   "source": [
    "scores.mean()"
   ]
  },
  {
   "cell_type": "code",
   "execution_count": 18,
   "id": "4fe839fb",
   "metadata": {},
   "outputs": [
    {
     "data": {
      "text/plain": [
       "np.float64(0.6571279909053492)"
      ]
     },
     "execution_count": 18,
     "metadata": {},
     "output_type": "execute_result"
    }
   ],
   "source": [
    "# How about using 'wt', 'hp' and 'drat'\n",
    "X_train = allX_train[['wt', 'hp', 'drat']]\n",
    "X_test = allX_test[['wt', 'hp', 'drat']]\n",
    "\n",
    "# Create a linear regression model\n",
    "model4 = LinearRegression()\n",
    "scores = cross_val_score(model4, X_train, y_train)\n",
    "scores.mean()"
   ]
  },
  {
   "cell_type": "markdown",
   "id": "74a68405",
   "metadata": {},
   "source": [
    "### About validation\n",
    "\n",
    "From above it can be seen that by adding more relevant features, the model's performance improves as indicated by the \n",
    "increasing mean cross-validation scores. This suggests that 'wt', 'hp', and 'drat' are important predictors for 'mpg' \n",
    "in this dataset.\n",
    "Validation tests confirm that incorporating multiple relevant features enhances the predictive accuracy of the \n",
    "linear regression model for 'mpg'.\n",
    "Validation tests involve assessing the model's performance using cross-validation scores across different feature combinations.\n",
    "The training data is split into multiple folds, and the model is trained and evaluated on these folds to ensure \n",
    "robustness and generalizability.\n",
    "This process helps in identifying the best feature combinations for predicting 'mpg' while minimizing overfitting."
   ]
  },
  {
   "cell_type": "markdown",
   "id": "761d6783",
   "metadata": {},
   "source": [
    "Our best so far (according to the cross val scores) has been model7, the one with [\"wt\",\"hp\",\"drat\"]. So let's build that model fully and then evaluate that"
   ]
  },
  {
   "cell_type": "code",
   "execution_count": 19,
   "id": "dfbdb104",
   "metadata": {},
   "outputs": [
    {
     "data": {
      "text/plain": [
       "0.79004928438052"
      ]
     },
     "execution_count": 19,
     "metadata": {},
     "output_type": "execute_result"
    }
   ],
   "source": [
    "#Step 9:\n",
    "\n",
    "# Build final model using the best feature combination identified through cross-validation\n",
    "X_train = allX_train[['wt', 'hp', 'drat']]\n",
    "X_test = allX_test[['wt', 'hp', 'drat']]\n",
    "\n",
    "model_final = LinearRegression()\n",
    "model_final.fit(X_train, y_train)\n",
    "y_pred = model_final.predict(X_test)\n",
    "model_final.score(X_test, y_test)\n"
   ]
  },
  {
   "cell_type": "markdown",
   "id": "15dd66ca",
   "metadata": {},
   "source": [
    "### Polynomial regression \n"
   ]
  },
  {
   "cell_type": "code",
   "execution_count": 20,
   "id": "2fb3f8fb",
   "metadata": {},
   "outputs": [],
   "source": [
    "#Step 10:\n",
    "### Polynomial regression\n",
    "#We will use polynomial regression to capture non-linear relationships, if any, between features and target variable.\n",
    "\n",
    "from sklearn.preprocessing import PolynomialFeatures\n",
    "#And train_test_split\n",
    "from sklearn.model_selection import train_test_split"
   ]
  },
  {
   "cell_type": "code",
   "execution_count": null,
   "id": "d6ea04a1",
   "metadata": {},
   "outputs": [],
   "source": [
    "#Lets use 'wt' to predict 'mpg' using polynomial regression\n",
    "#Firstly we will split the training set into a training and validation set\n",
    "\n",
    "#Select our training and testing features\n",
    "X_train = allX_train[['wt']]\n",
    "X_test = allX_test[['wt']]\n",
    "\n",
    "#Split our training into training and validation sets\n",
    "X_v_train, X_v_valid, y_v_train, y_v_valid = train_test_split(X_train, y_train)"
   ]
  },
  {
   "cell_type": "code",
   "execution_count": 24,
   "id": "1fc51628",
   "metadata": {},
   "outputs": [
    {
     "data": {
      "text/plain": [
       "(18, 1)"
      ]
     },
     "execution_count": 24,
     "metadata": {},
     "output_type": "execute_result"
    }
   ],
   "source": [
    "X_v_train.shape"
   ]
  },
  {
   "cell_type": "code",
   "execution_count": null,
   "id": "9893c3b6",
   "metadata": {},
   "outputs": [
    {
     "name": "stdout",
     "output_type": "stream",
     "text": [
      "11\n"
     ]
    }
   ],
   "source": [
    "#Now we will create polynomial feature from degree 0 to degree 9 \n",
    "max_p = 10\n",
    "degrees = range(max_p+1)\n",
    "print(len(degrees))\n",
    "error_train=np.empty(len(degrees))\n",
    "error_valid=np.empty(len(degrees))\n",
    "score_train=np.empty(len(degrees))\n",
    "score_valid=np.empty(len(degrees))\n",
    "#for each degree, we now fit on the smaller training set and predict on the validation set\n",
    "#we accumulate the MSE on both sets in error_train and error_valid\n",
    "#we then find the degree of polynomial that minimizes the MSE on the validation set.\n",
    "#your code here\n",
    "for d in degrees:#for increasing polynomial degrees 0,1,2...\n",
    "    #Create polynomials from X_v_train and X_v_valid\n",
    "    X_c = PolynomialFeatures(d).fit_transform(X_v_train)\n",
    "    X_c_val = PolynomialFeatures(d).fit_transform(X_v_valid)\n",
    "    #fit a model linear in polynomial coefficients on the new smaller training set\n",
    "    est = LinearRegression()\n",
    "    est.fit(X_c, y_v_train)    \n",
    "    #predict on new training and validation sets and calculate mean squared error\n",
    "    error_train[d] = mean_squared_error(est.predict(X_c), y_v_train)\n",
    "    error_valid[d] = mean_squared_error(est.predict(X_c_val), y_v_valid)\n",
    "    score_train[d] = est.score(X_c, y_v_train)\n",
    "    score_valid[d] = est.score(X_c_val, y_v_valid)\n",
    "    "
   ]
  },
  {
   "cell_type": "code",
   "execution_count": 27,
   "id": "5e5fd001",
   "metadata": {},
   "outputs": [
    {
     "data": {
      "text/plain": [
       "array([0.        , 0.77779438, 0.86649409, 0.87845174, 0.89382362,\n",
       "       0.90147355, 0.90230484, 0.90497915, 0.91429584, 0.91675412,\n",
       "       0.91878451])"
      ]
     },
     "execution_count": 27,
     "metadata": {},
     "output_type": "execute_result"
    }
   ],
   "source": [
    "score_train"
   ]
  }
 ],
 "metadata": {
  "kernelspec": {
   "display_name": "Python 3",
   "language": "python",
   "name": "python3"
  },
  "language_info": {
   "codemirror_mode": {
    "name": "ipython",
    "version": 3
   },
   "file_extension": ".py",
   "mimetype": "text/x-python",
   "name": "python",
   "nbconvert_exporter": "python",
   "pygments_lexer": "ipython3",
   "version": "3.12.1"
  }
 },
 "nbformat": 4,
 "nbformat_minor": 5
}
