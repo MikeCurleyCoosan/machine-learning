{
 "cells": [
  {
   "cell_type": "code",
   "execution_count": 2,
   "id": "0f731ed9",
   "metadata": {},
   "outputs": [],
   "source": [
    "#Step 1: Import Libraries\n",
    "import numpy as np\n",
    "import pandas as pd\n",
    "import matplotlib.pyplot as plt\n",
    "from sklearn.model_selection import train_test_split\n",
    "from sklearn.linear_model import LinearRegression\n",
    "from sklearn.metrics import mean_squared_error, r2_score\n"
   ]
  },
  {
   "cell_type": "code",
   "execution_count": 3,
   "id": "c97f0321",
   "metadata": {},
   "outputs": [
    {
     "name": "stdout",
     "output_type": "stream",
     "text": [
      ".. _diabetes_dataset:\n",
      "\n",
      "Diabetes dataset\n",
      "----------------\n",
      "\n",
      "Ten baseline variables, age, sex, body mass index, average blood\n",
      "pressure, and six blood serum measurements were obtained for each of n =\n",
      "442 diabetes patients, as well as the response of interest, a\n",
      "quantitative measure of disease progression one year after baseline.\n",
      "\n",
      "**Data Set Characteristics:**\n",
      "\n",
      ":Number of Instances: 442\n",
      "\n",
      ":Number of Attributes: First 10 columns are numeric predictive values\n",
      "\n",
      ":Target: Column 11 is a quantitative measure of disease progression one year after baseline\n",
      "\n",
      ":Attribute Information:\n",
      "    - age     age in years\n",
      "    - sex\n",
      "    - bmi     body mass index\n",
      "    - bp      average blood pressure\n",
      "    - s1      tc, total serum cholesterol\n",
      "    - s2      ldl, low-density lipoproteins\n",
      "    - s3      hdl, high-density lipoproteins\n",
      "    - s4      tch, total cholesterol / HDL\n",
      "    - s5      ltg, possibly log of serum triglycerides level\n",
      "    - s6      glu, blood sugar level\n",
      "\n",
      "Note: Each of these 10 feature variables have been mean centered and scaled by the standard deviation times the square root of `n_samples` (i.e. the sum of squares of each column totals 1).\n",
      "\n",
      "Source URL:\n",
      "https://www4.stat.ncsu.edu/~boos/var.select/diabetes.html\n",
      "\n",
      "For more information see:\n",
      "Bradley Efron, Trevor Hastie, Iain Johnstone and Robert Tibshirani (2004) \"Least Angle Regression,\" Annals of Statistics (with discussion), 407-499.\n",
      "(https://web.stanford.edu/~hastie/Papers/LARS/LeastAngle_2002.pdf)\n",
      "\n"
     ]
    }
   ],
   "source": [
    "#Procedure to validate a diabetes prediction model\n",
    "#Step 2: Load the Dataset\n",
    "\n",
    "from sklearn import datasets\n",
    "diabetes = datasets.load_diabetes()\n",
    "\n",
    "allX = pd.DataFrame(diabetes.data, columns=diabetes.feature_names)\n",
    "y = diabetes.target\n",
    "\n",
    "# Describe the dataset\n",
    "print(diabetes.DESCR)"
   ]
  },
  {
   "cell_type": "code",
   "execution_count": 4,
   "id": "9a267fb4",
   "metadata": {},
   "outputs": [],
   "source": [
    "#Step 3: Split the Dataset\n",
    "allX_train, allX_test, y_train, y_test = train_test_split(allX, y, test_size=0.2, random_state=42)\n"
   ]
  },
  {
   "cell_type": "markdown",
   "id": "55bc46cb",
   "metadata": {},
   "source": [
    "# Validation\n",
    "\n",
    "Evaluate the dataset using cross validation to find out which features give the best results\n"
   ]
  },
  {
   "cell_type": "code",
   "execution_count": 5,
   "id": "ab250850",
   "metadata": {},
   "outputs": [
    {
     "data": {
      "text/plain": [
       "np.float64(0.32197089446711075)"
      ]
     },
     "execution_count": 5,
     "metadata": {},
     "output_type": "execute_result"
    }
   ],
   "source": [
    "# Step 4: Use Cross-Validation to Evaluate Features\n",
    "# Here we will use a simple linear regression model and evaluate it using cross-validation\n",
    "# We will check which features give the best results\n",
    "# We will use k-fold cross-validation with k=5\n",
    "from sklearn.model_selection import cross_val_score\n",
    "\n",
    "#Lets look at one feature first\n",
    "X_train = allX_train[[\"bmi\"]]\n",
    "X_test = allX_test[[\"bmi\"]]\n",
    "\n",
    "# Create a linear regression model\n",
    "model1 = LinearRegression()\n",
    "\n",
    "# Perform cross-validation\n",
    "scores = cross_val_score(model1, X_train, y_train, cv=5)\n",
    "\n",
    "scores.mean()\n"
   ]
  },
  {
   "cell_type": "code",
   "execution_count": 6,
   "id": "08bd6974",
   "metadata": {},
   "outputs": [
    {
     "data": {
      "text/plain": [
       "np.float64(0.17367884408972853)"
      ]
     },
     "execution_count": 6,
     "metadata": {},
     "output_type": "execute_result"
    }
   ],
   "source": [
    "\n",
    "# How about using a different feature?\n",
    "X_train = allX_train[[\"bp\"]]\n",
    "X_test = allX_test[[\"bp\"]]\n",
    "\n",
    "# Create a linear regression model\n",
    "model2 = LinearRegression()\n",
    "\n",
    "# Perform cross-validation\n",
    "scores = cross_val_score(model2, X_train, y_train, cv=5)\n",
    "\n",
    "scores.mean()\n"
   ]
  },
  {
   "cell_type": "code",
   "execution_count": 7,
   "id": "c7fb451d",
   "metadata": {},
   "outputs": [
    {
     "name": "stdout",
     "output_type": "stream",
     "text": [
      "Feature: age, Cross-Validation Score: 0.008154403137890398\n",
      "Feature: sex, Cross-Validation Score: -0.03338229616179431\n",
      "Feature: bmi, Cross-Validation Score: 0.32197089446711075\n",
      "Feature: bp, Cross-Validation Score: 0.17367884408972853\n",
      "Feature: s1, Cross-Validation Score: 0.0017264632806413883\n",
      "Feature: s2, Cross-Validation Score: -0.012336092382083797\n",
      "Feature: s3, Cross-Validation Score: 0.09267711310843321\n",
      "Feature: s4, Cross-Validation Score: 0.13082603665526926\n",
      "Feature: s5, Cross-Validation Score: 0.2503801381934015\n",
      "Feature: s6, Cross-Validation Score: 0.12920033567468686\n",
      "Best Feature: bmi, Best Cross-Validation Score: 0.32197089446711075\n"
     ]
    }
   ],
   "source": [
    "# Step throught all single features to see which one is best\n",
    "best_score = 0\n",
    "best_feature = \"\"\n",
    "                         \n",
    "for feature in allX.columns:\n",
    "    X_train = allX_train[[feature]]\n",
    "    model = LinearRegression()\n",
    "    scores = cross_val_score(model, X_train, y_train, cv=5)\n",
    "    mean_score = scores.mean()\n",
    "    print(f\"Feature: {feature}, Cross-Validation Score: {mean_score}\")\n",
    "    if mean_score > best_score:\n",
    "        best_score = mean_score\n",
    "        best_feature = feature\n",
    "\n",
    "print(f\"Best Feature: {best_feature}, Best Cross-Validation Score: {best_score}\")"
   ]
  },
  {
   "cell_type": "code",
   "execution_count": 8,
   "id": "7df01330",
   "metadata": {},
   "outputs": [
    {
     "name": "stdout",
     "output_type": "stream",
     "text": [
      "Best Features: ('sex', 'bmi', 'bp', 's1', 's2', 's5'), Best Cross-Validation Score: 0.4665077105636778\n"
     ]
    }
   ],
   "source": [
    "# Now try combination of features to see if we can do better\n",
    "from itertools import combinations\n",
    "best_score = 0\n",
    "best_features = ()\n",
    "\n",
    "for r in range(1, len(allX.columns)+1):\n",
    "    for feature_combination in combinations(allX.columns, r):\n",
    "        X_train = allX_train[list(feature_combination)]\n",
    "        model = LinearRegression()\n",
    "        scores = cross_val_score(model, X_train, y_train, cv=5)\n",
    "        mean_score = scores.mean()\n",
    "        if mean_score > best_score:\n",
    "            best_score = mean_score\n",
    "            best_features = feature_combination\n",
    "\n",
    "print(f\"Best Features: {best_features}, Best Cross-Validation Score: {best_score}\")\n"
   ]
  },
  {
   "cell_type": "markdown",
   "id": "2b1ca02e",
   "metadata": {},
   "source": [
    "# Polynomial regression\n",
    "\n",
    "Lets now use Polynomial regression on model comprised of the features that we worked out above to find out what degree gives us the best results."
   ]
  },
  {
   "cell_type": "code",
   "execution_count": 9,
   "id": "1a9fb732",
   "metadata": {},
   "outputs": [
    {
     "name": "stdout",
     "output_type": "stream",
     "text": [
      "Degree: 1, Validation R2 Score: 0.4707834407200523\n",
      "Degree: 2, Validation R2 Score: 0.40963333757985665\n",
      "Degree: 3, Validation R2 Score: 0.2932306975325284\n",
      "Degree: 4, Validation R2 Score: -14.094028871724312\n",
      "Degree: 5, Validation R2 Score: -1864.3765254281755\n",
      "Degree: 6, Validation R2 Score: -1474.0189375738203\n",
      "Degree: 7, Validation R2 Score: -1471.0569966478865\n",
      "Degree: 8, Validation R2 Score: -1471.0282576154577\n",
      "Degree: 9, Validation R2 Score: -1471.0349199006912\n",
      "Best Degree: 1, Best Validation R2 Score: 0.4707834407200523\n"
     ]
    }
   ],
   "source": [
    "# Step 5 : We will now train the model using the best features found\n",
    "X_train = allX_train[list(best_features)]\n",
    "X_test = allX_test[list(best_features)]\n",
    "\n",
    "# Step 6: Use polynomial regression to improve the results of the model\n",
    "from sklearn.preprocessing import PolynomialFeatures\n",
    "\n",
    "#We will evalualte polynomial feature degrees from 1 to 9 and see which one gives us the best results.\n",
    "best_degree = 1\n",
    "best_score = 0\n",
    "\n",
    "#We firstly need to split the training data into a smaller training and validation set\n",
    "X_train_small, X_val, y_train_small, y_val = train_test_split(X_train, y_train, test_size=0.2, random_state=42)\n",
    "\n",
    "for degree in range(1, 10):\n",
    "    poly = PolynomialFeatures(degree=degree)\n",
    "    X_train_poly = poly.fit_transform(X_train_small)\n",
    "    X_val_poly = poly.transform(X_val)\n",
    "    \n",
    "    model = LinearRegression()\n",
    "    model.fit(X_train_poly, y_train_small)\n",
    "    \n",
    "    y_val_pred = model.predict(X_val_poly)\n",
    "    score = r2_score(y_val, y_val_pred)\n",
    "    \n",
    "    print(f\"Degree: {degree}, Validation R2 Score: {score}\")\n",
    "    \n",
    "    if score > best_score:\n",
    "        best_score = score\n",
    "        best_degree = degree\n",
    "\n",
    "print(f\"Best Degree: {best_degree}, Best Validation R2 Score: {best_score}\")\n"
   ]
  },
  {
   "cell_type": "code",
   "execution_count": 10,
   "id": "cb966055",
   "metadata": {},
   "outputs": [
    {
     "data": {
      "image/png": "[encoded data removed]",
      "text/plain": [
       "<Figure size 640x480 with 1 Axes>"
      ]
     },
     "metadata": {},
     "output_type": "display_data"
    }
   ],
   "source": [
    "# Step 7 : Plot the results of the trained data vs the validatation data\n",
    "\n",
    "poly = PolynomialFeatures(degree=best_degree)\n",
    "X_train_poly = poly.fit_transform(X_train)\n",
    "X_test_poly = poly.transform(X_test)\n",
    "\n",
    "model = LinearRegression()\n",
    "model.fit(X_train_poly, y_train)\n",
    "\n",
    "y_test_pred = model.predict(X_test_poly)\n",
    "\n",
    "# Plotting\n",
    "plt.scatter(y_test, y_test_pred)\n",
    "plt.xlabel(\"Actual Diabetes Progression\")\n",
    "plt.ylabel(\"Predicted Diabetes Progression\")\n",
    "plt.title(\"Actual vs Predicted Diabetes Progression\")\n",
    "plt.plot([y_test.min(), y_test.max()], [y_test.min(), y_test.max()], 'k--', lw=2)\n",
    "plt.show()"
   ]
  },
  {
   "cell_type": "code",
   "execution_count": 11,
   "id": "a8096cae",
   "metadata": {},
   "outputs": [
    {
     "name": "stdout",
     "output_type": "stream",
     "text": [
      "Test MSE: 2846.2905242137595, Test R2 Score: 0.4627767079320302\n"
     ]
    }
   ],
   "source": [
    "# This shows us that degree 1 gives the best results for this dataset.\n",
    "\n",
    "# Step 7: Finally we can train our final model using the best features and best polynomial degree found above \n",
    "# and evaluate it on the test set.\n",
    "\n",
    "poly = PolynomialFeatures(degree=best_degree)\n",
    "X_train_poly = poly.fit_transform(X_train)\n",
    "X_test_poly = poly.transform(X_test)\n",
    "\n",
    "model = LinearRegression()\n",
    "model.fit(X_train_poly, y_train)\n",
    "\n",
    "y_test_pred = model.predict(X_test_poly)\n",
    "mse = mean_squared_error(y_test, y_test_pred)\n",
    "r2 = r2_score(y_test, y_test_pred)\n",
    "print(f\"Test MSE: {mse}, Test R2 Score: {r2}\")\n",
    "\n",
    "\n"
   ]
  }
 ],
 "metadata": {
  "kernelspec": {
   "display_name": "Python 3",
   "language": "python",
   "name": "python3"
  },
  "language_info": {
   "codemirror_mode": {
    "name": "ipython",
    "version": 3
   },
   "file_extension": ".py",
   "mimetype": "text/x-python",
   "name": "python",
   "nbconvert_exporter": "python",
   "pygments_lexer": "ipython3",
   "version": "3.12.1"
  }
 },
 "nbformat": 4,
 "nbformat_minor": 5
}
